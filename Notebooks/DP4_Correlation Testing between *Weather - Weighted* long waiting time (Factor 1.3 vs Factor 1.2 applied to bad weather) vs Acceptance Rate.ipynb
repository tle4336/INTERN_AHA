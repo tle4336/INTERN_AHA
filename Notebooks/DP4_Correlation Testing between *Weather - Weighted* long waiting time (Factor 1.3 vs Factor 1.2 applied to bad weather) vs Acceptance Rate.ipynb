{
 "cells": [
  {
   "cell_type": "code",
   "execution_count": 1111,
   "metadata": {
    "collapsed": true
   },
   "outputs": [],
   "source": [
    "# To support both python 2 and python 3\n",
    "from __future__ import division, print_function, unicode_literals\n",
    "\n",
    "# Common imports\n",
    "import numpy as np\n",
    "import numpy.random as rnd\n",
    "import os\n",
    "\n",
    "# to make this notebook's output stable across runs\n",
    "seednumber = rnd.seed(42)\n",
    "\n",
    "# To plot pretty figures\n",
    "%matplotlib inline\n",
    "import matplotlib\n",
    "import matplotlib.pyplot as plt\n",
    "plt.rcParams['axes.labelsize'] = 14\n",
    "plt.rcParams['xtick.labelsize'] = 12\n",
    "plt.rcParams['ytick.labelsize'] = 12\n",
    "\n",
    "# Where to save the figures\n",
    "PROJECT_ROOT_DIR = \".\"\n",
    "CHAPTER_ID = \"fundamentals\"\n",
    "\n",
    "def save_fig(fig_id, tight_layout=True):\n",
    "    path = os.path.join(PROJECT_ROOT_DIR, \"images\", CHAPTER_ID, fig_id + \".png\")\n",
    "    print(\"Saving figure\", fig_id)\n",
    "    if tight_layout:\n",
    "        plt.tight_layout()\n",
    "    plt.savefig(path, format='png', dpi=300)\n",
    "\n",
    "    "
   ]
  },
  {
   "cell_type": "code",
   "execution_count": 1112,
   "metadata": {
    "collapsed": false
   },
   "outputs": [],
   "source": [
    "import pandas as pd\n",
    "\n",
    "datapath = \"/Users/tuanle/DynamicPricing/Data/\"\n",
    "\n",
    "Ha_Noi = pd.read_csv(datapath+\"HaNoi_1month_LW_WeatherTest.csv\")\n",
    "#Add an additional column into the table\n",
    "sLength = len(Ha_Noi['accept_rate'])\n",
    "Ha_Noi['accept_rate_timeT'] = pd.Series(Ha_Noi['accept_rate'], index=Ha_Noi.index)\n",
    "#Shift the entries in the accept_rate column upward\n",
    "Ha_Noi.accept_rate = Ha_Noi.accept_rate.shift(-1)\n",
    "\n",
    "Ha_Noi = Ha_Noi.dropna(subset = [\"longwait_percent4\"])\n",
    "Ha_Noi = Ha_Noi.dropna(subset=[\"accept_rate\"])\n",
    "Ha_Noi = Ha_Noi.dropna(subset = [\"longwait_percent2\"])\n",
    "df2 = pd.DataFrame(Ha_Noi)\n",
    "\n",
    "# threshold for request\n",
    "# df2 = df2.drop(df2[(df2.request < 15)].index)\n",
    "#Dong_Da.describe()"
   ]
  },
  {
   "cell_type": "code",
   "execution_count": 1113,
   "metadata": {
    "collapsed": false
   },
   "outputs": [
    {
     "data": {
      "text/plain": [
       "accept_rate                         1.000000\n",
       "accept_rate_timeT                   0.752991\n",
       "request                            -0.197986\n",
       "long_waiting                       -0.619737\n",
       "longwait_percent1                  -0.732090\n",
       "Weather Weight_Longwait_percent4   -0.735139\n",
       "Weather Weight_Longwait_percent2   -0.735758\n",
       "longwait_percent4                  -0.739608\n",
       "longwait_percent2                  -0.740427\n",
       "longwait_percent3                  -0.741485\n",
       "Name: accept_rate, dtype: float64"
      ]
     },
     "execution_count": 1113,
     "metadata": {},
     "output_type": "execute_result"
    }
   ],
   "source": [
    "corr_matrix = Ha_Noi.corr()\n",
    "corr_matrix[\"accept_rate\"].sort_values(ascending=False)"
   ]
  },
  {
   "cell_type": "code",
   "execution_count": 1114,
   "metadata": {
    "collapsed": false
   },
   "outputs": [],
   "source": [
    "import pandas as pd\n",
    "import numpy as np\n",
    "from sklearn.model_selection import train_test_split\n",
    "import random\n",
    "\n",
    "train_set, test_set = train_test_split(Ha_Noi, test_size=0.2, random_state = random.randint(20, 200))\n",
    "Xtrain = train_set['longwait_percent2'].reshape(-1,1)\n",
    "Ytrain = train_set['accept_rate'].reshape(-1,1)\n",
    "\n",
    "Xtrain2 = train_set['Weather Weight_Longwait_percent2'].reshape(-1,1)\n",
    "Xtest2 = test_set['Weather Weight_Longwait_percent2'].reshape(-1,1)\n",
    "\n",
    "Xtest = test_set['longwait_percent2'].reshape(-1,1)\n",
    "Ytest = test_set['accept_rate'].reshape(-1,1)\n",
    "\n",
    "# Xtrain = train_set[['longwait_percent2', 'accept_rate_timeT']]\n",
    "# Ytrain = train_set['accept_rate'].reshape(-1,1)\n",
    "\n",
    "# Xtrain2 = train_set[['Weather Weight_Longwait_percent2', 'accept_rate_timeT']]\n",
    "# Xtest2 = test_set[['Weather Weight_Longwait_percent2', 'accept_rate_timeT']]\n",
    "\n",
    "# Xtest = test_set[['longwait_percent2', 'accept_rate_timeT']]\n",
    "# Ytest = test_set['accept_rate'].reshape(-1,1)\n",
    "\n",
    "\n"
   ]
  },
  {
   "cell_type": "raw",
   "metadata": {},
   "source": [
    "# Note that Xtest and Xtest2 only differs in 11 values, which are the days where we apply the factor. "
   ]
  },
  {
   "cell_type": "markdown",
   "metadata": {},
   "source": [
    "# Linear Regression - ML model"
   ]
  },
  {
   "cell_type": "code",
   "execution_count": 1115,
   "metadata": {
    "collapsed": false
   },
   "outputs": [
    {
     "name": "stdout",
     "output_type": "stream",
     "text": [
      "R^2 score is: 0.609\n",
      "[[-0.30636318  0.44559715]]\n",
      "[ 0.52692666]\n",
      "R^2 score is: 0.607\n",
      "[[-0.27156556  0.46778528]]\n",
      "[ 0.5035651]\n"
     ]
    }
   ],
   "source": [
    "from sklearn.linear_model import LinearRegression\n",
    "\n",
    "model = LinearRegression()\n",
    "def modelfit(X,y):\n",
    "    result = model.fit(Xtrain, Ytrain)\n",
    "    print(\"R^2 score is: %.3f\" %model.score(Xtrain, Ytrain))\n",
    "    print(model.coef_)\n",
    "    print(model.intercept_)\n",
    "\n",
    "\n",
    "model2 = LinearRegression()\n",
    "def model2fit(X,y):\n",
    "    result2 = model2.fit(Xtrain2,Ytrain)\n",
    "    print(\"R^2 score is: %.3f\"  % model2.score(Xtrain2, Ytrain))\n",
    "    print(model2.coef_)\n",
    "    print(model2.intercept_)\n",
    "\n",
    "modelfit(Xtest, Ytest)\n",
    "model2fit(Xtest2, Ytest)\n"
   ]
  },
  {
   "cell_type": "markdown",
   "metadata": {},
   "source": [
    "# Predict the result using Lin-Reg obtained above"
   ]
  },
  {
   "cell_type": "code",
   "execution_count": 1116,
   "metadata": {
    "collapsed": false
   },
   "outputs": [],
   "source": [
    "Accept_rate_prediction = model.predict(Xtest)\n",
    "Accept_rate_train  = model.predict(Xtrain)\n",
    "\n",
    "Accept_rate_prediction2 = model2.predict(Xtest2)\n",
    "Accept_rate_train2 = model2.predict(Xtrain2)\n",
    "\n"
   ]
  },
  {
   "cell_type": "code",
   "execution_count": 1117,
   "metadata": {
    "collapsed": false
   },
   "outputs": [
    {
     "name": "stdout",
     "output_type": "stream",
     "text": [
      "Mean Square Error:\t 0.0656163697264\n",
      "Mean Square Error:\t 0.0656163697264\n",
      "Mean: 0.00438508556574\n",
      "Standard: 0.00790427278714\n",
      "Max: 0.0618686499078\n",
      "Min: 4.21178624228e-05\n",
      "R^2:\t 0.582714087048\n",
      "Adjusted R^2:\t 0.580834420774\n"
     ]
    }
   ],
   "source": [
    "from sklearn.metrics import mean_squared_error\n",
    "from sklearn.metrics import mean_absolute_error\n",
    "from sklearn.metrics import r2_score\n",
    "from sklearn.model_selection import cross_val_score\n",
    "from sklearn.linear_model import LinearRegression\n",
    "\n",
    "#MSE, RMSE and MAE for predicted value of Xtest2 (Accept_rate_prediction2) vs Ytest\n",
    "lin_mse = mean_squared_error(Ytest, Accept_rate_prediction2)\n",
    "lin_rmse = np.sqrt(lin_mse) #taking square root of MSE converts the units back to the original units of the output variable\n",
    "lin_mae = mean_absolute_error(Ytest, Accept_rate_prediction2)\n",
    "print(\"Mean Square Error:\\t\",lin_rmse)\n",
    "\n",
    "#MSE, RMSE and MAE for predicted value of Xtest (Accept_rate_prediction) vs Ytest\n",
    "lin_mse2 = mean_squared_error(Ytest, Accept_rate_prediction)\n",
    "lin_rmse2 = np.sqrt(lin_mse) #taking square root of MSE converts the units back to the original units of the output variable\n",
    "lin_mae2 = mean_absolute_error(Ytest, Accept_rate_prediction)\n",
    "print(\"Mean Square Error:\\t\",lin_rmse)\n",
    "\n",
    "lin_reg = LinearRegression()\n",
    "#Evaluate Lin-Reg algo on the whole training set by cross-validation\n",
    "scores2 = cross_val_score(lin_reg, Xtrain, Ytrain.ravel(), scoring = \"neg_mean_squared_error\", cv = 100)\n",
    "linreg_rmse_scores2 = np.sqrt(-scores2)\n",
    "\n",
    "#Evaluate Lin-Reg algo on the whole test set by cross-validation\n",
    "scores4 = cross_val_score(lin_reg, Xtest2, Ytest.ravel(), scoring = \"neg_mean_squared_error\", cv = 100)\n",
    "linreg_rmse_scores4 = np.sqrt(-scores4)\n",
    "\n",
    "#Evaluate Lin-Reg algo on the whole training set by cross-validation\n",
    "scores3 = cross_val_score(lin_reg, Xtrain2, Ytrain.ravel(), scoring = \"neg_mean_squared_error\", cv = 100)\n",
    "linreg_rmse_scores2 = np.sqrt(-scores2)\n",
    "\n",
    "#Evaluate Lin-Reg algo on the whole test set by cross-validation\n",
    "scores5 = cross_val_score(lin_reg, Xtest, Ytest.ravel(), scoring = \"neg_mean_squared_error\", cv = 100)\n",
    "linreg_rmse_scores2 = np.sqrt(-scores2)\n",
    "\n",
    "def display_scores(scores):\n",
    "    # print(\"Scores:\", scores)\n",
    "    print(\"Mean:\", scores.mean())\n",
    "    print(\"Standard:\", scores.std())\n",
    "    print(\"Max:\", scores.max())\n",
    "    print(\"Min:\", scores.min())\n",
    "\n",
    "# display_scores(-scores2)\n",
    "display_scores(-scores4)\n",
    "\n",
    "r_squared = r2_score(Ytest, Accept_rate_prediction2) #built-in formula for R^2 \n",
    "print(\"R^2:\\t\", r_squared) \n",
    "\n",
    "adjusted_Rsquared = 1 - (1-r_squared)*(len(Xtest)-1)/(len(Xtest)-1-1) #formula for adjusted R^2 by theory\n",
    "print(\"Adjusted R^2:\\t\", adjusted_Rsquared) #correct the error when adding more and more independent variables to the linear regression model\n",
    "\n",
    "\n",
    "# lin_mse = mean_squared_error(Ytrain, Accept_rate_train)\n",
    "# lin_rmse = np.sqrt(lin_mse)\n",
    "# print(\"Mean Squred Error_train:\\t\", lin_rmse)"
   ]
  },
  {
   "cell_type": "raw",
   "metadata": {
    "collapsed": true
   },
   "source": [
    "Comment: Comparing the result of this DP4 and of DP1 (weighted long waiting time(WLWT) - Factor 1.3 vs average long waiting time), the MSE and max evaluation scores (as well as mean scores) of cross-validation with 100 folds are clearly better in the case of DP4. Note that we should pay more attention to the max evaluation scores of cross-validation, since it displays the *WORST* error our Lin-Reg model could make at any given time, if we apply this model in real-time. Note that the max and min in this case are *ALL* better than the case with WLWT - Factor 1.2."
   ]
  },
  {
   "cell_type": "markdown",
   "metadata": {},
   "source": [
    "# Plot of RMSE errors when testing our models on training set vs test set, and comparing the errors in the case of factor 1.3 applied to bad weather vs none"
   ]
  },
  {
   "cell_type": "code",
   "execution_count": 1119,
   "metadata": {
    "collapsed": false
   },
   "outputs": [
    {
     "name": "stdout",
     "output_type": "stream",
     "text": [
      "Average RMSE on the training set is: 0.063\n",
      "Average RMSE on the test set is: 0.068\n",
      "Average RMSE on the training set is: 0.063\n",
      "Average RMSE on the test set is: 0.067\n",
      "Average RMSE on the training set is: 0.061\n",
      "Average RMSE on the test set is: 0.080\n",
      "Average RMSE on the training set is: 0.061\n",
      "Average RMSE on the test set is: 0.091\n"
     ]
    },
    {
     "data": {
      "image/png": "[encoded data removed]",
      "text/plain": [
       "<matplotlib.figure.Figure at 0x120be27b8>"
      ]
     },
     "metadata": {},
     "output_type": "display_data"
    }
   ],
   "source": [
    "from sklearn.metrics import mean_squared_error\n",
    "from sklearn.model_selection import train_test_split\n",
    "from sklearn.linear_model import LinearRegression\n",
    "from sklearn.pipeline import Pipeline\n",
    "from sklearn.preprocessing import PolynomialFeatures\n",
    "import numpy as np\n",
    "\n",
    "def plot_learning_curves(model):\n",
    "    train_errors, test_errors = [], []\n",
    "    for m in range(1, len(Xtrain)):\n",
    "        model.fit(Xtrain[:m], Ytrain[:m])\n",
    "        Ytrain_predict = model.predict(Xtrain[:m])\n",
    "        Ytest_predict = model.predict(Xtest)\n",
    "        train_errors.append(mean_squared_error(Ytrain_predict, Ytrain[:m]))\n",
    "        test_errors.append(mean_squared_error(Ytest_predict, Ytest))\n",
    "        plt.plot(np.sqrt(train_errors), \"r-+\", linewidth=2, label=\"training set\")\n",
    "        plt.plot(np.sqrt(test_errors), \"b-\", linewidth=3, label=\"validation set\")\n",
    "    print(\"Average RMSE on the training set is: %.3f\" %np.mean(np.sqrt(train_errors)))\n",
    "    print(\"Average RMSE on the test set is: %.3f\" %np.mean(np.sqrt(test_errors)))\n",
    "\n",
    "def plot_learning_curves2(model):   \n",
    "    train_errors2, test_errors2 = [], []\n",
    "    for n in range(1, len(Xtrain)):\n",
    "        model.fit(Xtrain2[:n], Ytrain[:n])\n",
    "        Ytrain_predict2 = model.predict(Xtrain2[:n])\n",
    "        Ytest_predict2 = model.predict(Xtest2)\n",
    "        train_errors2.append(mean_squared_error(Ytrain_predict2, Ytrain[:n]))\n",
    "        test_errors2.append(mean_squared_error(Ytest_predict2, Ytest))\n",
    "        plt.plot(np.sqrt(train_errors2), \"g-+\", linewidth=2, label=\"training set\")\n",
    "        plt.plot(np.sqrt(test_errors2), \"o-\", linewidth=3, label=\"validation set\")\n",
    "    print(\"Average RMSE on the training set is: %.3f\" %np.mean(np.sqrt(train_errors2)))\n",
    "    print(\"Average RMSE on the test set is: %.3f\" %np.mean(np.sqrt(test_errors2)))\n",
    "        \n",
    "\n",
    "polynomial_regression = Pipeline(((\"poly_features\", PolynomialFeatures(degree=2, include_bias=False)),\n",
    "                                  (\"sgd_reg\", LinearRegression()),\n",
    "    ))\n",
    "\n",
    "        \n",
    "lin_reg = LinearRegression()\n",
    "plot_learning_curves(lin_reg)\n",
    "plot_learning_curves2(lin_reg)\n",
    "# plot_learning_curves(polynomial_regression)\n",
    "# plot_learning_curves2(polynomial_regression)\n",
    "\n",
    "plt.show()\n",
    "\n",
    "\n",
    "\n",
    "\n",
    "\n",
    "\n"
   ]
  },
  {
   "cell_type": "raw",
   "metadata": {
    "collapsed": true
   },
   "source": [
    "# Note that by looking at the plot, the RMSE on the test set is *lower* than on the training set. This implies our model is most likely to *underfit*, but the RMSE error on the test set ranged from ~ 5.9% to 7.5%. Also, for the SAME training and test set, the high-degree, quadratic polynomial regression fit gives the larger average RMSE than the linear regression. This implies we don't need to use a complex model. Only need to find more features to add to our input set. Currently, we have 3 features: long waiting time (1 quantitative factor), weather and specific timestamp (2 qualitative factors)"
   ]
  },
  {
   "cell_type": "code",
   "execution_count": 1102,
   "metadata": {
    "collapsed": false
   },
   "outputs": [
    {
     "name": "stdout",
     "output_type": "stream",
     "text": [
      "0.486007997158\n"
     ]
    }
   ],
   "source": [
    "from sklearn.externals import joblib\n",
    "filename = 'DP4_WeatherWLT.sav'\n",
    "joblib.dump(model, filename)\n",
    "\n",
    "# load the model from disk\n",
    "loaded_model = joblib.load(filename)\n",
    "result = loaded_model.score(Xtest, Ytest) #R^2 result\n",
    "print(result)"
   ]
  },
  {
   "cell_type": "code",
   "execution_count": null,
   "metadata": {
    "collapsed": true
   },
   "outputs": [],
   "source": []
  },
  {
   "cell_type": "code",
   "execution_count": null,
   "metadata": {
    "collapsed": true
   },
   "outputs": [],
   "source": []
  },
  {
   "cell_type": "code",
   "execution_count": null,
   "metadata": {
    "collapsed": true
   },
   "outputs": [],
   "source": []
  }
 ],
 "metadata": {
  "anaconda-cloud": {},
  "kernelspec": {
   "display_name": "Python [conda root]",
   "language": "python",
   "name": "conda-root-py"
  },
  "language_info": {
   "codemirror_mode": {
    "name": "ipython",
    "version": 3
   },
   "file_extension": ".py",
   "mimetype": "text/x-python",
   "name": "python",
   "nbconvert_exporter": "python",
   "pygments_lexer": "ipython3",
   "version": "3.5.2"
  }
 },
 "nbformat": 4,
 "nbformat_minor": 1
}
