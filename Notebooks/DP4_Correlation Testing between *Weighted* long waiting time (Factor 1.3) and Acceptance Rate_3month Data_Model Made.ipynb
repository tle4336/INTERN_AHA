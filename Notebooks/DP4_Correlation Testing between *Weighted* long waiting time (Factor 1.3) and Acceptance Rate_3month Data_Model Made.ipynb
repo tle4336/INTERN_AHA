{
 "cells": [
  {
   "cell_type": "code",
   "execution_count": 3,
   "metadata": {
    "collapsed": false
   },
   "outputs": [],
   "source": [
    "import pandas as pd\n",
    "\n",
    "datapath = \"/Users/tuanle/DynamicPricing/Data/\"\n",
    "\n",
    "Ha_Noi = pd.read_csv(datapath+\"HaNoi_3month_LWT.csv\")\n",
    "#Add an additional column into the table\n",
    "sLength = len(Ha_Noi['accept_rate'])\n",
    "Ha_Noi['accept_rate_timeT'] = pd.Series(Ha_Noi['accept_rate'], index=Ha_Noi.index)\n",
    "#Shift the entries in the accept_rate column upward\n",
    "Ha_Noi.accept_rate = Ha_Noi.accept_rate.shift(-1)\n",
    "\n",
    "Ha_Noi = Ha_Noi.dropna(subset = [\"longwait_percent4\"])\n",
    "Ha_Noi = Ha_Noi.dropna(subset=[\"accept_rate\"])\n",
    "Ha_Noi = Ha_Noi.dropna(subset = [\"longwait_percent2\"])\n",
    "df2 = pd.DataFrame(Ha_Noi)\n",
    " \n",
    "\n",
    "# threshold for request\n",
    "# df2 = df2.drop(df2[(df2.request < 15)].index)\n",
    "#Dong_Da.describe()"
   ]
  },
  {
   "cell_type": "code",
   "execution_count": 5,
   "metadata": {
    "collapsed": false
   },
   "outputs": [],
   "source": [
    "import pandas as pd\n",
    "import numpy as np\n",
    "from sklearn.model_selection import train_test_split\n",
    "import random\n",
    "\n",
    "train_set, test_set = train_test_split(Ha_Noi, test_size=0.2, random_state= random.randint(40, 200))\n",
    "Xtrain = train_set['longwait_percent2'].reshape(-1,1)\n",
    "Ytrain = train_set['accept_rate'].reshape(-1,1)\n",
    "\n",
    "Xtest = test_set['longwait_percent2'].reshape(-1,1)\n",
    "Ytest = test_set['accept_rate'].reshape(-1,1)\n",
    "\n",
    "Xtrain2 = train_set[['longwait_percent2', 'accept_rate_timeT']]\n",
    "Xtest2 = test_set[['longwait_percent2', 'accept_rate_timeT']]\n",
    "\n",
    "\n"
   ]
  },
  {
   "cell_type": "markdown",
   "metadata": {},
   "source": [
    "# Linear Regression - ML model"
   ]
  },
  {
   "cell_type": "code",
   "execution_count": 6,
   "metadata": {
    "collapsed": false
   },
   "outputs": [],
   "source": [
    "from sklearn.linear_model import LinearRegression\n",
    "\n",
    "model = LinearRegression()\n",
    "result = model.fit(Xtrain, Ytrain)\n",
    "\n",
    "model2 = LinearRegression()\n",
    "result2 = model2.fit(Xtrain2, Ytrain)\n"
   ]
  },
  {
   "cell_type": "code",
   "execution_count": 7,
   "metadata": {
    "collapsed": false
   },
   "outputs": [],
   "source": [
    "Accept_rate_prediction = model.predict(Xtest)\n",
    "Accept_rate_train  = model.predict(Xtrain)\n",
    "\n",
    "Accept_rate_prediction2 = model2.predict(Xtest2)\n",
    "Accept_rate_train2 = model2.predict(Xtrain2)\n"
   ]
  },
  {
   "cell_type": "raw",
   "metadata": {
    "collapsed": true
   },
   "source": [
    "Comment: Comparing the result of this DP4 and of DP1 (weighted long waiting time(WLWT) - Factor 1.3 vs average long waiting time), the MSE and max evaluation scores (as well as mean scores) of cross-validation with 100 folds are clearly better in the case of DP4. Note that we should pay more attention to the max evaluation scores of cross-validation, since it displays the *WORST* error our Lin-Reg model could make at any given time, if we apply this model in real-time. Note that the max and min in this case are *ALL* better than the case with WLWT - Factor 1.2."
   ]
  },
  {
   "cell_type": "markdown",
   "metadata": {},
   "source": [
    "# Plot of RMSE errors when testing our models on training set vs test set"
   ]
  },
  {
   "cell_type": "raw",
   "metadata": {},
   "source": [
    "Comment: Comparing the RMSE on the two test sets (one when doing Lin-reg with X comprised of longwait_percent2 and accept_rate_time in the previous period, and another with X comprised of only longwait_percent2), we see that the RMSE is much smaller (ranged from 3% - 10%, with a *RANDOM* train and test sets) for the first case than the 2nd case. This means for a large dataset, the first case shows a significant strength compared to the second case. "
   ]
  },
  {
   "cell_type": "code",
   "execution_count": 13,
   "metadata": {
    "collapsed": false
   },
   "outputs": [],
   "source": [
    "from sklearn.externals import joblib\n",
    "filename = 'my_model_3monthdata.sav'\n",
    "joblib.dump(model, filename, protocol=2)\n",
    "\n",
    "# load the model from disk\n",
    "loaded_model = joblib.load(filename)\n",
    "# result = loaded_model.score(Xtest, Ytest) #R^2 result\n",
    "# print(result)"
   ]
  },
  {
   "cell_type": "code",
   "execution_count": null,
   "metadata": {
    "collapsed": true
   },
   "outputs": [],
   "source": []
  },
  {
   "cell_type": "code",
   "execution_count": null,
   "metadata": {
    "collapsed": true
   },
   "outputs": [],
   "source": []
  }
 ],
 "metadata": {
  "anaconda-cloud": {},
  "kernelspec": {
   "display_name": "Python [conda root]",
   "language": "python",
   "name": "conda-root-py"
  },
  "language_info": {
   "codemirror_mode": {
    "name": "ipython",
    "version": 3
   },
   "file_extension": ".py",
   "mimetype": "text/x-python",
   "name": "python",
   "nbconvert_exporter": "python",
   "pygments_lexer": "ipython3",
   "version": "3.5.2"
  }
 },
 "nbformat": 4,
 "nbformat_minor": 1
}
