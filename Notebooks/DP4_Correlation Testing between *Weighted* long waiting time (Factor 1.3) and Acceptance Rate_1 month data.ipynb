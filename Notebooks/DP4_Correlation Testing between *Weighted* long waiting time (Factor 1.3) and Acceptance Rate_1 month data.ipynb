{
 "cells": [
  {
   "cell_type": "code",
   "execution_count": 105,
   "metadata": {
    "collapsed": true
   },
   "outputs": [],
   "source": [
    "# To support both python 2 and python 3\n",
    "from __future__ import division, print_function, unicode_literals\n",
    "\n",
    "# Common imports\n",
    "import numpy as np\n",
    "import numpy.random as rnd\n",
    "import os\n",
    "\n",
    "# to make this notebook's output stable across runs\n",
    "seednumber = rnd.seed(42)\n",
    "\n",
    "# To plot pretty figures\n",
    "%matplotlib inline\n",
    "import matplotlib\n",
    "import matplotlib.pyplot as plt\n",
    "plt.rcParams['axes.labelsize'] = 14\n",
    "plt.rcParams['xtick.labelsize'] = 12\n",
    "plt.rcParams['ytick.labelsize'] = 12\n",
    "\n",
    "# Where to save the figures\n",
    "PROJECT_ROOT_DIR = \".\"\n",
    "CHAPTER_ID = \"fundamentals\"\n",
    "\n",
    "def save_fig(fig_id, tight_layout=True):\n",
    "    path = os.path.join(PROJECT_ROOT_DIR, \"images\", CHAPTER_ID, fig_id + \".png\")\n",
    "    print(\"Saving figure\", fig_id)\n",
    "    if tight_layout:\n",
    "        plt.tight_layout()\n",
    "    plt.savefig(path, format='png', dpi=300)\n",
    "\n",
    "    "
   ]
  },
  {
   "cell_type": "code",
   "execution_count": 106,
   "metadata": {
    "collapsed": false
   },
   "outputs": [],
   "source": [
    "import pandas as pd\n",
    "\n",
    "datapath = \"/Users/tuanle/DynamicPricing/Data/\"\n",
    "\n",
    "Ha_Noi = pd.read_csv(datapath+\"HaNoi_1month_LW_WeatherTest.csv\")\n",
    "Ha_Noi.accept_rate = Ha_Noi.accept_rate.shift(-1)\n",
    "# Ha_Noi2 = Ha_Noi2.drop(\"request\", axis = 1)\n",
    "Ha_Noi = Ha_Noi.dropna(subset = [\"longwait_percent1\"])\n",
    "Ha_Noi = Ha_Noi.dropna(subset=[\"accept_rate\"])\n",
    "df2 = pd.DataFrame(Ha_Noi)\n",
    "\n",
    " \n",
    "\n",
    "# threshold for request\n",
    "# df2 = df2.drop(df2[(df2.request < 15)].index)\n",
    "#Dong_Da.describe()"
   ]
  },
  {
   "cell_type": "code",
   "execution_count": 107,
   "metadata": {
    "collapsed": false
   },
   "outputs": [
    {
     "data": {
      "text/plain": [
       "accept_rate                         1.000000\n",
       "request                            -0.197986\n",
       "long_waiting                       -0.619737\n",
       "longwait_percent1                  -0.732090\n",
       "Weather Weight_Longwait_percent4   -0.735139\n",
       "Weather Weight_Longwait_percent2   -0.735758\n",
       "longwait_percent4                  -0.739608\n",
       "longwait_percent2                  -0.740427\n",
       "longwait_percent3                  -0.741485\n",
       "Name: accept_rate, dtype: float64"
      ]
     },
     "execution_count": 107,
     "metadata": {},
     "output_type": "execute_result"
    }
   ],
   "source": [
    "corr_matrix = Ha_Noi.corr()\n",
    "corr_matrix[\"accept_rate\"].sort_values(ascending=False)"
   ]
  },
  {
   "cell_type": "code",
   "execution_count": 108,
   "metadata": {
    "collapsed": false
   },
   "outputs": [],
   "source": [
    "import pandas as pd\n",
    "import numpy as np\n",
    "from sklearn.model_selection import train_test_split\n",
    "import random\n",
    "\n",
    "train_set, test_set = train_test_split(Ha_Noi, test_size=0.2, random_state= random.randint(40, 200))\n",
    "Xtrain = train_set['longwait_percent2'].reshape(-1,1)\n",
    "Ytrain = train_set['accept_rate'].reshape(-1,1)\n",
    "\n",
    "Xtest = test_set['longwait_percent2'].reshape(-1,1)\n",
    "Ytest = test_set['accept_rate'].reshape(-1,1)\n",
    "\n",
    "\n",
    "\n",
    "\n"
   ]
  },
  {
   "cell_type": "markdown",
   "metadata": {},
   "source": [
    "# Linear Regression - ML model"
   ]
  },
  {
   "cell_type": "code",
   "execution_count": 109,
   "metadata": {
    "collapsed": false
   },
   "outputs": [],
   "source": [
    "from sklearn.linear_model import LinearRegression\n",
    "\n",
    "model = LinearRegression()\n",
    "result = model.fit(Xtrain, Ytrain)\n"
   ]
  },
  {
   "cell_type": "code",
   "execution_count": 110,
   "metadata": {
    "collapsed": false
   },
   "outputs": [],
   "source": [
    "Accept_rate_prediction = model.predict(Xtest)\n",
    "Accept_rate_train  = model.predict(Xtrain)\n",
    "\n",
    "# Accept_rate_prediction2 = model2.predict(Xtest2)\n",
    "# Accept_rate_train2 = model2.predict(Xtrain2)\n"
   ]
  },
  {
   "cell_type": "code",
   "execution_count": 111,
   "metadata": {
    "collapsed": false
   },
   "outputs": [
    {
     "name": "stdout",
     "output_type": "stream",
     "text": [
      "Mean Square Error:\t 0.0644719635398\n",
      "Scores: [  5.15733719e-03   4.78153319e-03   3.02825401e-03   1.52545475e-02\n",
      "   4.98719719e-03   3.01347880e-03   1.35351816e-03   6.13994628e-04\n",
      "   1.80402652e-02   2.88375846e-02   4.59630408e-03   2.09598522e-02\n",
      "   5.22349239e-03   6.84216916e-03   2.04995143e-03   9.92184488e-04\n",
      "   1.07493893e-02   6.12274993e-03   2.36841833e-03   1.11329026e-03\n",
      "   1.19086530e-03   7.55502837e-03   1.06233883e-02   1.31986529e-03\n",
      "   2.35442732e-04   8.85893954e-03   8.02625800e-03   1.23131575e-02\n",
      "   1.99752358e-03   4.97627862e-04   1.51181356e-03   6.13724063e-03\n",
      "   1.07362761e-02   9.71944501e-04   6.16450963e-03   4.44720703e-03\n",
      "   5.01886806e-03   3.58832819e-03   4.22371628e-04   9.00297353e-03\n",
      "   1.19618864e-03   8.32294248e-04   6.26315921e-06   7.73365107e-04\n",
      "   1.11358970e-03   9.28926551e-03   6.61884574e-04   1.16802194e-04\n",
      "   5.92302722e-03   1.61494722e-03   1.66231943e-03   2.25248427e-03\n",
      "   8.85541099e-03   2.10256826e-03   2.82629469e-04   5.42278943e-03\n",
      "   2.55407350e-03   8.65587836e-04   6.48471558e-04   1.46354246e-03\n",
      "   1.54079513e-03   3.63600944e-04   6.54982819e-04   5.79221383e-04\n",
      "   2.53535731e-04   4.24457521e-04   5.63154901e-03   3.90625254e-03\n",
      "   4.11321121e-03   1.40454414e-03   3.70275151e-03   5.77330357e-03\n",
      "   1.77201892e-03   2.48975428e-03   3.33193699e-03   4.59091528e-04\n",
      "   2.63646872e-03   2.07294048e-03   1.71514975e-03   6.52524133e-05\n",
      "   3.30173521e-04   2.63487835e-03   4.11597698e-03   1.47055687e-03\n",
      "   5.40760649e-04   2.60014158e-03   3.42305542e-03   3.96765845e-04\n",
      "   2.19905959e-04   3.38313652e-05   8.39546057e-04   3.26477764e-04\n",
      "   8.56796797e-05   3.93270520e-03   9.55207804e-03   8.86757157e-03\n",
      "   5.08863978e-04   1.55993756e-03   9.27341437e-03   2.10180205e-03]\n",
      "Mean: 0.0039004758761\n",
      "Standard: 0.00469254434773\n",
      "Max: 0.0288375845901\n",
      "Min: 6.26315921313e-06\n",
      "R^2:\t 0.645674560557\n",
      "Adjusted R^2:\t 0.644078500019\n"
     ]
    }
   ],
   "source": [
    "from sklearn.metrics import mean_squared_error\n",
    "from sklearn.metrics import mean_absolute_error\n",
    "from sklearn.metrics import r2_score\n",
    "from sklearn.model_selection import cross_val_score\n",
    "from sklearn.linear_model import LinearRegression\n",
    "\n",
    "lin_mse = mean_squared_error(Ytest, Accept_rate_prediction)\n",
    "lin_rmse = np.sqrt(lin_mse) #taking square root of MSE converts the units back to the original units of the output variable\n",
    "\n",
    "lin_mae = mean_absolute_error(Ytest, Accept_rate_prediction)\n",
    "print(\"Mean Square Error:\\t\",lin_rmse)\n",
    "# print(\"Mean Absolute Error:\\t\", lin_mae)\n",
    "\n",
    "lin_reg = LinearRegression()\n",
    "#Evaluate Lin-Reg algo on the whole training set by cross-validation\n",
    "scores2 = cross_val_score(lin_reg, Xtrain, Ytrain.ravel(), scoring = \"neg_mean_squared_error\", cv = 100)\n",
    "linreg_rmse_scores2 = np.sqrt(-scores2)\n",
    "\n",
    "#Evaluate Lin-Reg algo on the whole test set by cross-validation\n",
    "scores4 = cross_val_score(lin_reg, Xtest, Ytest.ravel(), scoring = \"neg_mean_squared_error\", cv = 100)\n",
    "linreg_rmse_scores4 = np.sqrt(-scores4)\n",
    "\n",
    "def display_scores(scores):\n",
    "    print(\"Scores:\", scores)\n",
    "    print(\"Mean:\", scores.mean())\n",
    "    print(\"Standard:\", scores.std())\n",
    "    print(\"Max:\", scores.max())\n",
    "    print(\"Min:\", scores.min())\n",
    "\n",
    "# display_scores(-scores2)\n",
    "display_scores(-scores4)\n",
    "\n",
    "r_squared = r2_score(Ytest, Accept_rate_prediction) #built-in formula for R^2 \n",
    "print(\"R^2:\\t\", r_squared) \n",
    "\n",
    "adjusted_Rsquared = 1 - (1-r_squared)*(len(Xtest)-1)/(len(Xtest)-1-1) #formula for adjusted R^2 by theory\n",
    "print(\"Adjusted R^2:\\t\", adjusted_Rsquared) #correct the error when adding more and more independent variables to the linear regression model\n",
    "\n",
    "\n",
    "# lin_mse = mean_squared_error(Ytrain, Accept_rate_train)\n",
    "# lin_rmse = np.sqrt(lin_mse)\n",
    "# print(\"Mean Squred Error_train:\\t\", lin_rmse)"
   ]
  },
  {
   "cell_type": "raw",
   "metadata": {
    "collapsed": true
   },
   "source": [
    "Comment: Comparing the result of this DP4 and of DP1 (weighted long waiting time(WLWT) - Factor 1.3 vs average long waiting time), the MSE and max evaluation scores (as well as mean scores) of cross-validation with 100 folds are clearly better in the case of DP4. Note that we should pay more attention to the max evaluation scores of cross-validation, since it displays the *WORST* error our Lin-Reg model could make at any given time, if we apply this model in real-time. Note that the max and min in this case are *ALL* better than the case with WLWT - Factor 1.2."
   ]
  },
  {
   "cell_type": "markdown",
   "metadata": {},
   "source": [
    "# Plot of RMSE errors when testing our models on training set vs test set"
   ]
  },
  {
   "cell_type": "code",
   "execution_count": 113,
   "metadata": {
    "collapsed": false
   },
   "outputs": [
    {
     "name": "stdout",
     "output_type": "stream",
     "text": [
      "Average RMSE on the training set is: 0.071\n",
      "Average RMSE on the test set is: 0.066\n"
     ]
    },
    {
     "data": {
      "image/png": "[encoded data removed]",
      "text/plain": [
       "<matplotlib.figure.Figure at 0x11a065d68>"
      ]
     },
     "metadata": {},
     "output_type": "display_data"
    }
   ],
   "source": [
    "from sklearn.metrics import mean_squared_error\n",
    "from sklearn.model_selection import train_test_split\n",
    "from sklearn.linear_model import LinearRegression\n",
    "from sklearn.pipeline import Pipeline\n",
    "from sklearn.preprocessing import PolynomialFeatures\n",
    "import numpy as np\n",
    "\n",
    "def plot_learning_curves(model):\n",
    "    train_errors, test_errors = [], []\n",
    "    for m in range(1, len(Xtrain)):\n",
    "        model.fit(Xtrain[:m], Ytrain[:m])\n",
    "        Ytrain_predict = model.predict(Xtrain[:m])\n",
    "        Ytest_predict = model.predict(Xtest)\n",
    "        train_errors.append(mean_squared_error(Ytrain_predict, Ytrain[:m]))\n",
    "        test_errors.append(mean_squared_error(Ytest_predict, Ytest))\n",
    "        plt.plot(np.sqrt(train_errors), \"r-+\", linewidth=2, label=\"training set\")\n",
    "        plt.plot(np.sqrt(test_errors), \"b-\", linewidth=3, label=\"validation set\")\n",
    "    print(\"Average RMSE on the training set is: %.3f\" %np.mean(np.sqrt(train_errors)))\n",
    "    print(\"Average RMSE on the test set is: %.3f\" %np.mean(np.sqrt(test_errors)))\n",
    "\n",
    "# def plot_learning_curves2(model):   \n",
    "#     train_errors2, test_errors2 = [], []\n",
    "#     for n in range(1, len(Xtrain)):\n",
    "#         model.fit(Xtrain2[:n], Ytrain[:n])\n",
    "#         Ytrain_predict2 = model.predict(Xtrain2[:n])\n",
    "#         Ytest_predict2 = model.predict(Xtest2)\n",
    "#         train_errors2.append(mean_squared_error(Ytrain_predict2, Ytrain[:n]))\n",
    "#         test_errors2.append(mean_squared_error(Ytest_predict2, Ytest))\n",
    "#         plt.plot(np.sqrt(train_errors2), \"g-+\", linewidth=2, label=\"training set\")\n",
    "#         plt.plot(np.sqrt(test_errors2), \"o-\", linewidth=3, label=\"validation set\")\n",
    "#     print(\"Average RMSE on the training set is: %.3f\" %np.mean(np.sqrt(train_errors2)))\n",
    "#     print(\"Average RMSE on the test set is: %.3f\" %np.mean(np.sqrt(test_errors2)))\n",
    "        \n",
    "\n",
    "polynomial_regression = Pipeline(((\"poly_features\", PolynomialFeatures(degree=2, include_bias=False)),\n",
    "                                  (\"sgd_reg\", LinearRegression()),\n",
    "    ))\n",
    "\n",
    "        \n",
    "lin_reg = LinearRegression()\n",
    "plot_learning_curves(lin_reg)\n",
    "\n",
    "\n",
    "\n",
    "\n",
    "\n",
    "\n"
   ]
  },
  {
   "cell_type": "code",
   "execution_count": 115,
   "metadata": {
    "collapsed": false
   },
   "outputs": [
    {
     "name": "stdout",
     "output_type": "stream",
     "text": [
      "0.645674560557\n"
     ]
    }
   ],
   "source": [
    "from sklearn.externals import joblib\n",
    "filename = 'my_model.sav'\n",
    "joblib.dump(model, filename)\n",
    "\n",
    "# load the model from disk\n",
    "loaded_model = joblib.load(filename)\n",
    "result = loaded_model.score(Xtest, Ytest) #R^2 result\n",
    "print(result)"
   ]
  },
  {
   "cell_type": "code",
   "execution_count": null,
   "metadata": {
    "collapsed": true
   },
   "outputs": [],
   "source": []
  },
  {
   "cell_type": "code",
   "execution_count": null,
   "metadata": {
    "collapsed": true
   },
   "outputs": [],
   "source": []
  }
 ],
 "metadata": {
  "anaconda-cloud": {},
  "kernelspec": {
   "display_name": "Python [conda root]",
   "language": "python",
   "name": "conda-root-py"
  },
  "language_info": {
   "codemirror_mode": {
    "name": "ipython",
    "version": 3
   },
   "file_extension": ".py",
   "mimetype": "text/x-python",
   "name": "python",
   "nbconvert_exporter": "python",
   "pygments_lexer": "ipython3",
   "version": "3.5.2"
  }
 },
 "nbformat": 4,
 "nbformat_minor": 1
}
