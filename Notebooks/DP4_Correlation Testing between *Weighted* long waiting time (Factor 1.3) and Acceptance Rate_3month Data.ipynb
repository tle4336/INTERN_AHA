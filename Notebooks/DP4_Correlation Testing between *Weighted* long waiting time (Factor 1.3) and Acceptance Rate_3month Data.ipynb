{
 "cells": [
  {
   "cell_type": "code",
   "execution_count": 129,
   "metadata": {
    "collapsed": true
   },
   "outputs": [],
   "source": [
    "# To support both python 2 and python 3\n",
    "from __future__ import division, print_function, unicode_literals\n",
    "\n",
    "# Common imports\n",
    "import numpy as np\n",
    "import numpy.random as rnd\n",
    "import os\n",
    "\n",
    "# to make this notebook's output stable across runs\n",
    "seednumber = rnd.seed(42)\n",
    "\n",
    "# To plot pretty figures\n",
    "%matplotlib inline\n",
    "import matplotlib\n",
    "import matplotlib.pyplot as plt\n",
    "plt.rcParams['axes.labelsize'] = 14\n",
    "plt.rcParams['xtick.labelsize'] = 12\n",
    "plt.rcParams['ytick.labelsize'] = 12\n",
    "\n",
    "# Where to save the figures\n",
    "PROJECT_ROOT_DIR = \".\"\n",
    "CHAPTER_ID = \"fundamentals\"\n",
    "\n",
    "def save_fig(fig_id, tight_layout=True):\n",
    "    path = os.path.join(PROJECT_ROOT_DIR, \"images\", CHAPTER_ID, fig_id + \".png\")\n",
    "    print(\"Saving figure\", fig_id)\n",
    "    if tight_layout:\n",
    "        plt.tight_layout()\n",
    "    plt.savefig(path, format='png', dpi=300)\n",
    "\n",
    "    "
   ]
  },
  {
   "cell_type": "code",
   "execution_count": 130,
   "metadata": {
    "collapsed": false
   },
   "outputs": [],
   "source": [
    "import pandas as pd\n",
    "\n",
    "datapath = \"/Users/tuanle/DynamicPricing/Data/\"\n",
    "\n",
    "Ha_Noi = pd.read_csv(datapath+\"HaNoi_3month_LWT.csv\")\n",
    "#Add an additional column into the table\n",
    "sLength = len(Ha_Noi['accept_rate'])\n",
    "Ha_Noi['accept_rate_timeT'] = pd.Series(Ha_Noi['accept_rate'], index=Ha_Noi.index)\n",
    "#Shift the entries in the accept_rate column upward\n",
    "Ha_Noi.accept_rate = Ha_Noi.accept_rate.shift(-1)\n",
    "\n",
    "Ha_Noi = Ha_Noi.dropna(subset = [\"longwait_percent4\"])\n",
    "Ha_Noi = Ha_Noi.dropna(subset=[\"accept_rate\"])\n",
    "Ha_Noi = Ha_Noi.dropna(subset = [\"longwait_percent2\"])\n",
    "df2 = pd.DataFrame(Ha_Noi)\n",
    " \n",
    "\n",
    "# threshold for request\n",
    "# df2 = df2.drop(df2[(df2.request < 15)].index)\n",
    "#Dong_Da.describe()"
   ]
  },
  {
   "cell_type": "code",
   "execution_count": 131,
   "metadata": {
    "collapsed": false
   },
   "outputs": [
    {
     "data": {
      "text/plain": [
       "accept_rate          1.000000\n",
       "accept_rate_timeT    0.757362\n",
       "request             -0.264904\n",
       "long_waiting        -0.653561\n",
       "longwait_percent1   -0.735186\n",
       "longwait_percent2   -0.741524\n",
       "longwait_percent4   -0.742168\n",
       "longwait_percent3   -0.742899\n",
       "Name: accept_rate, dtype: float64"
      ]
     },
     "execution_count": 131,
     "metadata": {},
     "output_type": "execute_result"
    }
   ],
   "source": [
    "corr_matrix = Ha_Noi.corr()\n",
    "corr_matrix[\"accept_rate\"].sort_values(ascending=False)"
   ]
  },
  {
   "cell_type": "code",
   "execution_count": 132,
   "metadata": {
    "collapsed": false
   },
   "outputs": [],
   "source": [
    "import pandas as pd\n",
    "import numpy as np\n",
    "from sklearn.model_selection import train_test_split\n",
    "import random\n",
    "\n",
    "train_set, test_set = train_test_split(Ha_Noi, test_size=0.2, random_state= random.randint(40, 200))\n",
    "Xtrain = train_set['longwait_percent2'].reshape(-1,1)\n",
    "Ytrain = train_set['accept_rate'].reshape(-1,1)\n",
    "\n",
    "Xtest = test_set['longwait_percent2'].reshape(-1,1)\n",
    "Ytest = test_set['accept_rate'].reshape(-1,1)\n",
    "\n",
    "Xtrain2 = train_set[['longwait_percent2', 'accept_rate_timeT']]\n",
    "Xtest2 = test_set[['longwait_percent2', 'accept_rate_timeT']]\n",
    "\n",
    "\n",
    "\n"
   ]
  },
  {
   "cell_type": "markdown",
   "metadata": {},
   "source": [
    "# Linear Regression - ML model"
   ]
  },
  {
   "cell_type": "code",
   "execution_count": 133,
   "metadata": {
    "collapsed": false
   },
   "outputs": [],
   "source": [
    "from sklearn.linear_model import LinearRegression\n",
    "\n",
    "model = LinearRegression()\n",
    "result = model.fit(Xtrain, Ytrain)\n",
    "\n",
    "model2 = LinearRegression()\n",
    "result2 = model2.fit(Xtrain2, Ytrain)\n"
   ]
  },
  {
   "cell_type": "code",
   "execution_count": 134,
   "metadata": {
    "collapsed": false
   },
   "outputs": [],
   "source": [
    "Accept_rate_prediction = model.predict(Xtest)\n",
    "Accept_rate_train  = model.predict(Xtrain)\n",
    "\n",
    "Accept_rate_prediction2 = model2.predict(Xtest2)\n",
    "Accept_rate_train2 = model2.predict(Xtrain2)\n"
   ]
  },
  {
   "cell_type": "code",
   "execution_count": 135,
   "metadata": {
    "collapsed": false
   },
   "outputs": [
    {
     "name": "stdout",
     "output_type": "stream",
     "text": [
      "Mean Square Error:\t 0.0578004772197\n",
      "Scores: [ 0.0029248   0.00189466  0.00483605  0.00209622  0.00130198  0.00164246\n",
      "  0.00231686  0.00362979  0.00180117  0.00461553  0.00250365  0.0010258\n",
      "  0.00131888  0.00112202  0.00139695  0.00374178  0.00434781  0.00111361\n",
      "  0.00681554  0.00344193  0.00147712  0.00272718  0.00188037  0.00727646\n",
      "  0.00319633  0.00429922  0.01359191  0.00206998  0.00207949  0.00836108\n",
      "  0.00145494  0.00483344  0.00127086  0.00266644  0.00155137  0.01051266\n",
      "  0.00137555  0.00282087  0.01019255  0.00769242  0.01068033  0.00126362\n",
      "  0.00262418  0.0045139   0.01044291  0.00545069  0.00709477  0.00817063\n",
      "  0.00182809  0.00065894  0.00370172  0.00460224  0.00063118  0.00462414\n",
      "  0.00346366  0.00422658  0.00280235  0.00171392  0.0055925   0.00329271\n",
      "  0.00714694  0.00246459  0.00276448  0.00621169  0.00287723  0.00310797\n",
      "  0.00291965  0.00764012  0.00144257  0.00086711  0.00161267  0.00184941\n",
      "  0.00492247  0.00838847  0.00267388  0.00067411  0.01914487  0.0025709\n",
      "  0.00265549  0.00378936  0.0031509   0.00508277  0.0051869   0.00284088\n",
      "  0.00493321  0.0023823   0.00818009  0.00128027  0.00153941  0.00176107\n",
      "  0.00354207  0.00042839  0.00562168  0.00930184  0.00091912  0.00133302\n",
      "  0.00745251  0.00085904  0.01726945  0.00351124]\n",
      "Mean: 0.0040489689327\n",
      "Standard: 0.00337891880639\n",
      "Max: 0.0191448693733\n",
      "Min: 0.000428386068449\n",
      "R^2:\t 0.51053917054\n",
      "Adjusted R^2:\t 0.509806444747\n"
     ]
    }
   ],
   "source": [
    "from sklearn.metrics import mean_squared_error\n",
    "from sklearn.metrics import mean_absolute_error\n",
    "from sklearn.metrics import r2_score\n",
    "from sklearn.model_selection import cross_val_score\n",
    "from sklearn.linear_model import LinearRegression\n",
    "\n",
    "lin_mse = mean_squared_error(Ytest, Accept_rate_prediction2)\n",
    "lin_rmse = np.sqrt(lin_mse) #taking square root of MSE converts the units back to the original units of the output variable\n",
    "\n",
    "lin_mae = mean_absolute_error(Ytest, Accept_rate_prediction2)\n",
    "print(\"Mean Square Error:\\t\",lin_rmse)\n",
    "# print(\"Mean Absolute Error:\\t\", lin_mae)\n",
    "\n",
    "lin_reg = LinearRegression()\n",
    "#Evaluate Lin-Reg algo on the whole training set by cross-validation\n",
    "scores2 = cross_val_score(lin_reg, Xtrain, Ytrain.ravel(), scoring = \"neg_mean_squared_error\", cv = 100)\n",
    "linreg_rmse_scores2 = np.sqrt(-scores2)\n",
    "\n",
    "#Evaluate Lin-Reg algo on the whole test set by cross-validation\n",
    "scores4 = cross_val_score(lin_reg, Xtest, Ytest.ravel(), scoring = \"neg_mean_squared_error\", cv = 100)\n",
    "linreg_rmse_scores4 = np.sqrt(-scores4)\n",
    "\n",
    "def display_scores(scores):\n",
    "    print(\"Scores:\", scores)\n",
    "    print(\"Mean:\", scores.mean())\n",
    "    print(\"Standard:\", scores.std())\n",
    "    print(\"Max:\", scores.max())\n",
    "    print(\"Min:\", scores.min())\n",
    "\n",
    "# display_scores(-scores2)\n",
    "display_scores(-scores4)\n",
    "\n",
    "r_squared = r2_score(Ytest, Accept_rate_prediction) #built-in formula for R^2 \n",
    "print(\"R^2:\\t\", r_squared) \n",
    "\n",
    "adjusted_Rsquared = 1 - (1-r_squared)*(len(Xtest)-1)/(len(Xtest)-1-1) #formula for adjusted R^2 by theory\n",
    "print(\"Adjusted R^2:\\t\", adjusted_Rsquared) #correct the error when adding more and more independent variables to the linear regression model\n",
    "\n",
    "\n",
    "# lin_mse = mean_squared_error(Ytrain, Accept_rate_train)\n",
    "# lin_rmse = np.sqrt(lin_mse)\n",
    "# print(\"Mean Squred Error_train:\\t\", lin_rmse)"
   ]
  },
  {
   "cell_type": "raw",
   "metadata": {
    "collapsed": true
   },
   "source": [
    "Comment: Comparing the result of this DP4 and of DP1 (weighted long waiting time(WLWT) - Factor 1.3 vs average long waiting time), the MSE and max evaluation scores (as well as mean scores) of cross-validation with 100 folds are clearly better in the case of DP4. Note that we should pay more attention to the max evaluation scores of cross-validation, since it displays the *WORST* error our Lin-Reg model could make at any given time, if we apply this model in real-time. Note that the max and min in this case are *ALL* better than the case with WLWT - Factor 1.2."
   ]
  },
  {
   "cell_type": "markdown",
   "metadata": {},
   "source": [
    "# Plot of RMSE errors when testing our models on training set vs test set"
   ]
  },
  {
   "cell_type": "code",
   "execution_count": 136,
   "metadata": {
    "collapsed": false
   },
   "outputs": [
    {
     "name": "stdout",
     "output_type": "stream",
     "text": [
      "Average RMSE2 on the training set is: 0.060\n",
      "Average RMSE2 on the test set is: 0.058\n",
      "Average RMSE on the training set is: 0.063\n",
      "Average RMSE on the test set is: 0.063\n"
     ]
    }
   ],
   "source": [
    "from sklearn.metrics import mean_squared_error\n",
    "from sklearn.model_selection import train_test_split\n",
    "from sklearn.linear_model import LinearRegression\n",
    "from sklearn.pipeline import Pipeline\n",
    "from sklearn.preprocessing import PolynomialFeatures\n",
    "import numpy as np\n",
    "\n",
    "def plot_learning_curves(model):\n",
    "    train_errors, test_errors = [], []\n",
    "    for m in range(1, len(Xtrain)):\n",
    "        model.fit(Xtrain[:m], Ytrain[:m])\n",
    "        Ytrain_predict = model.predict(Xtrain[:m])\n",
    "        Ytest_predict = model.predict(Xtest)\n",
    "        train_errors.append(mean_squared_error(Ytrain_predict, Ytrain[:m]))\n",
    "        test_errors.append(mean_squared_error(Ytest_predict, Ytest))\n",
    "#         plt.plot(np.sqrt(train_errors), \"r-+\", linewidth=2, label=\"training set\")\n",
    "#         plt.plot(np.sqrt(test_errors), \"b-\", linewidth=3, label=\"validation set\")\n",
    "    print(\"Average RMSE on the training set is: %.3f\" %np.mean(np.sqrt(train_errors)))\n",
    "    print(\"Average RMSE on the test set is: %.3f\" %np.mean(np.sqrt(test_errors)))\n",
    "\n",
    "def plot_learning_curves2(model):   \n",
    "    train_errors2, test_errors2 = [], []\n",
    "    for n in range(1, len(Xtrain)):\n",
    "        model.fit(Xtrain2[:n], Ytrain[:n])\n",
    "        Ytrain_predict2 = model.predict(Xtrain2[:n])\n",
    "        Ytest_predict2 = model.predict(Xtest2)\n",
    "        train_errors2.append(mean_squared_error(Ytrain_predict2, Ytrain[:n]))\n",
    "        test_errors2.append(mean_squared_error(Ytest_predict2, Ytest))\n",
    "#         plt.plot(np.sqrt(train_errors2), \"g-+\", linewidth=2, label=\"training set\")\n",
    "#         plt.plot(np.sqrt(test_errors2), \"o-\", linewidth=3, label=\"validation set\")\n",
    "    print(\"Average RMSE2 on the training set is: %.3f\" %np.mean(np.sqrt(train_errors2)))\n",
    "    print(\"Average RMSE2 on the test set is: %.3f\" %np.mean(np.sqrt(test_errors2)))\n",
    "        \n",
    "\n",
    "polynomial_regression = Pipeline(((\"poly_features\", PolynomialFeatures(degree=2, include_bias=False)),\n",
    "                                  (\"sgd_reg\", LinearRegression()),\n",
    "    ))\n",
    "\n",
    "        \n",
    "lin_reg = LinearRegression()\n",
    "plot_learning_curves2(lin_reg)\n",
    "plot_learning_curves(lin_reg)\n",
    "\n",
    "\n",
    "\n",
    "\n",
    "\n",
    "\n",
    "\n"
   ]
  },
  {
   "cell_type": "raw",
   "metadata": {},
   "source": [
    "Comment: Comparing the RMSE on the two test sets (one when doing Lin-reg with X comprised of longwait_percent2 and accept_rate_time in the previous period, and another with X comprised of only longwait_percent2), we see that the RMSE is much smaller (ranged from 3% - 10%, with a *RANDOM* train and test sets) for the first case than the 2nd case. This means for a large dataset, the first case shows a significant strength compared to the second case. "
   ]
  },
  {
   "cell_type": "code",
   "execution_count": 137,
   "metadata": {
    "collapsed": false
   },
   "outputs": [
    {
     "name": "stdout",
     "output_type": "stream",
     "text": [
      "0.51053917054\n"
     ]
    }
   ],
   "source": [
    "from sklearn.externals import joblib\n",
    "filename = 'my_model_3monthdata.sav'\n",
    "joblib.dump(model, filename)\n",
    "\n",
    "# load the model from disk\n",
    "loaded_model = joblib.load(filename)\n",
    "result = loaded_model.score(Xtest, Ytest) #R^2 result\n",
    "print(result)"
   ]
  },
  {
   "cell_type": "code",
   "execution_count": null,
   "metadata": {
    "collapsed": true
   },
   "outputs": [],
   "source": []
  },
  {
   "cell_type": "code",
   "execution_count": null,
   "metadata": {
    "collapsed": true
   },
   "outputs": [],
   "source": []
  }
 ],
 "metadata": {
  "anaconda-cloud": {},
  "kernelspec": {
   "display_name": "Python [conda root]",
   "language": "python",
   "name": "conda-root-py"
  },
  "language_info": {
   "codemirror_mode": {
    "name": "ipython",
    "version": 3
   },
   "file_extension": ".py",
   "mimetype": "text/x-python",
   "name": "python",
   "nbconvert_exporter": "python",
   "pygments_lexer": "ipython3",
   "version": "3.5.2"
  }
 },
 "nbformat": 4,
 "nbformat_minor": 1
}
