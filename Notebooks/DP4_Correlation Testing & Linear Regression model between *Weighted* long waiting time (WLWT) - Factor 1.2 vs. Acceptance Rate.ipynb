{
 "cells": [
  {
   "cell_type": "code",
   "execution_count": 109,
   "metadata": {
    "collapsed": false
   },
   "outputs": [],
   "source": [
    "# To support both python 2 and python 3\n",
    "from __future__ import division, print_function, unicode_literals\n",
    "\n",
    "# Common imports\n",
    "import numpy as np\n",
    "import numpy.random as rnd\n",
    "import os\n",
    "\n",
    "# to make this notebook's output stable across runs\n",
    "seednumber = rnd.seed(42)\n",
    "\n",
    "\n",
    "# To plot pretty figures\n",
    "%matplotlib inline\n",
    "import matplotlib\n",
    "import matplotlib.pyplot as plt\n",
    "plt.rcParams['axes.labelsize'] = 14\n",
    "plt.rcParams['xtick.labelsize'] = 12\n",
    "plt.rcParams['ytick.labelsize'] = 12\n",
    "\n",
    "# Where to save the figures\n",
    "PROJECT_ROOT_DIR = \".\"\n",
    "CHAPTER_ID = \"fundamentals\"\n",
    "\n",
    "def save_fig(fig_id, tight_layout=True):\n",
    "    path = os.path.join(PROJECT_ROOT_DIR, \"images\", CHAPTER_ID, fig_id + \".png\")\n",
    "    print(\"Saving figure\", fig_id)\n",
    "    if tight_layout:\n",
    "        plt.tight_layout()\n",
    "    plt.savefig(path, format='png', dpi=300)"
   ]
  },
  {
   "cell_type": "code",
   "execution_count": 3,
   "metadata": {
    "collapsed": false
   },
   "outputs": [],
   "source": [
    "import pandas as pd\n",
    "\n",
    "datapath = \"/Users/tuanle/DynamicPricing/Data/\"\n",
    "\n",
    "Ha_Noi = pd.read_csv(datapath+\"HaNoi_1month_LWVaried1.2_1.3.csv\")\n",
    "Ha_Noi.accept_rate = Ha_Noi.accept_rate.shift(-1)\n",
    "# Ha_Noi2 = Ha_Noi2.drop(\"request\", axis = 1)\n",
    "Ha_Noi = Ha_Noi.dropna(subset = [\"longwait_percent1\"])\n",
    "Ha_Noi = Ha_Noi.dropna(subset=[\"accept_rate\"])\n",
    "df = pd.DataFrame(Ha_Noi)\n",
    "\n",
    "\n",
    "\n",
    "# Ha_Noi2 = pd.read_csv(datapath+\"HaNoi_1month_LWVaried_Factor2.csv\")\n",
    "# Ha_Noi2.accept_rate = Ha_Noi2.accept_rate.shift(-1)\n",
    "# # Ha_Noi2 = Ha_Noi2.drop(\"request\", axis = 1)\n",
    "# Ha_Noi2 = Ha_Noi2.dropna(subset = [\"longwait_percent4\"])\n",
    "# Ha_Noi2 = Ha_Noi2.dropna(subset=[\"accept_rate\"])\n",
    "# df3 = pd.DataFrame(Ha_Noi2)\n",
    "# len(Ha_Noi2), len(Ha_Noi)\n",
    "\n",
    "\n",
    "# threshold for request\n",
    "# df2 = df2.drop(df2[(df2.request < 15)].index)\n",
    "#Dong_Da.describe()"
   ]
  },
  {
   "cell_type": "code",
   "execution_count": 75,
   "metadata": {
    "collapsed": false
   },
   "outputs": [
    {
     "data": {
      "text/plain": [
       "accept_rate          1.000000\n",
       "request             -0.197986\n",
       "long_waiting        -0.619737\n",
       "longwait_percent1   -0.732090\n",
       "longwait_percent4   -0.739608\n",
       "longwait_percent2   -0.740427\n",
       "longwait_percent3   -0.741485\n",
       "Name: accept_rate, dtype: float64"
      ]
     },
     "execution_count": 75,
     "metadata": {},
     "output_type": "execute_result"
    }
   ],
   "source": [
    "corr_matrix = Ha_Noi.corr()\n",
    "corr_matrix[\"accept_rate\"].sort_values(ascending=False)"
   ]
  },
  {
   "cell_type": "code",
   "execution_count": 111,
   "metadata": {
    "collapsed": false
   },
   "outputs": [],
   "source": [
    "import pandas as pd\n",
    "import numpy as np\n",
    "from sklearn.model_selection import train_test_split\n",
    "\n",
    "train_set, test_set = train_test_split(Ha_Noi, test_size=0.2)\n",
    "Xtrain = train_set['longwait_percent2'].reshape(-1,1)\n",
    "Ytrain = train_set['accept_rate'].reshape(-1,1)\n",
    "\n",
    "Xtrain2 = train_set['longwait_percent4'].reshape(-1,1)\n",
    "Xtest2 = test_set['longwait_percent4'].reshape(-1,1)\n",
    "\n",
    "Xtest = test_set['longwait_percent2'].reshape(-1,1)\n",
    "Ytest = test_set['accept_rate'].reshape(-1,1)\n",
    "\n"
   ]
  },
  {
   "cell_type": "markdown",
   "metadata": {},
   "source": [
    "# Linear Regression - ML model"
   ]
  },
  {
   "cell_type": "code",
   "execution_count": 112,
   "metadata": {
    "collapsed": false
   },
   "outputs": [],
   "source": [
    "from sklearn.linear_model import LinearRegression\n",
    "\n",
    "model = LinearRegression()\n",
    "result = model.fit(Xtrain, Ytrain)\n"
   ]
  },
  {
   "cell_type": "code",
   "execution_count": 113,
   "metadata": {
    "collapsed": false
   },
   "outputs": [],
   "source": [
    "Accept_rate_prediction = model.predict(Xtest)\n",
    "# print(\"Predictions:\\t\", Accept_rate_prediction)\n",
    "Accept_rate_train  = model.predict(Xtrain)\n",
    "\n",
    "# Accept_rate_prediction2 = model2.predict(Xtest2)\n",
    "# print(\"Predictions:\\t\", Accept_rate_prediction2)\n",
    "\n",
    "# len(Accept_rate_prediction)\n",
    "# Accept_rate_train2 = model2.predict(Xtrain2)\n"
   ]
  },
  {
   "cell_type": "markdown",
   "metadata": {},
   "source": [
    "# Evaluating the Lin-Reg model using cross-validations"
   ]
  },
  {
   "cell_type": "code",
   "execution_count": 114,
   "metadata": {
    "collapsed": false
   },
   "outputs": [
    {
     "name": "stdout",
     "output_type": "stream",
     "text": [
      "Mean Square Error:\t 0.058904406083\n",
      "Mean Absolute Error:\t 0.0432011411398\n",
      "Scores: [ 0.00301932  0.00168713  0.00302138  0.00341254  0.00564806  0.00149915\n",
      "  0.00909778  0.00190159  0.00370753  0.00258383]\n",
      "Mean: 0.00355783079402\n",
      "Standard 0.00217050424849\n",
      "Max: 0.00909778034956\n",
      "Min: 0.0014991507042\n",
      "R^2:\t 0.626720783938\n",
      "Adjusted R^2:\t 0.625039346028\n"
     ]
    }
   ],
   "source": [
    "from sklearn.metrics import mean_squared_error\n",
    "from sklearn.metrics import mean_absolute_error\n",
    "from sklearn.metrics import r2_score\n",
    "from sklearn.model_selection import cross_val_score\n",
    "from sklearn.linear_model import LinearRegression\n",
    "\n",
    "lin_mse = mean_squared_error(Ytest, Accept_rate_prediction)\n",
    "lin_rmse = np.sqrt(lin_mse) #taking square root of MSE converts the units back to the original units of the output variable\n",
    "\n",
    "\n",
    "lin_mae = mean_absolute_error(Ytest, Accept_rate_prediction)\n",
    "print(\"Mean Square Error:\\t\",lin_rmse)\n",
    "print(\"Mean Absolute Error:\\t\", lin_mae)\n",
    "\n",
    "lin_reg = LinearRegression()\n",
    "#Evaluate Lin-Reg algo on the whole training set by cross-validation\n",
    "scores2 = cross_val_score(lin_reg, Xtrain, Ytrain.ravel(), scoring = \"neg_mean_squared_error\", cv = 10)\n",
    "linreg_rmse_scores2 = np.sqrt(-scores2)\n",
    "\n",
    "#Evaluate Lin-Reg algo on the whole test set by cross-validation\n",
    "scores4 = cross_val_score(lin_reg, Xtest, Ytest.ravel(), scoring = \"neg_mean_squared_error\", cv = 10)\n",
    "linreg_rmse_scores4 = np.sqrt(-scores4)\n",
    "\n",
    "def display_scores(scores):\n",
    "    print(\"Scores:\", scores)\n",
    "    print(\"Mean:\", scores.mean())\n",
    "    print(\"Standard\", scores.std())\n",
    "    print(\"Max:\", scores.max())\n",
    "    print(\"Min:\", scores.min())\n",
    "    \n",
    "display_scores(-scores4)\n",
    "\n",
    "r_squared = r2_score(Ytest, Accept_rate_prediction) #built-in formula for R^2 \n",
    "print(\"R^2:\\t\", r_squared) \n",
    "\n",
    "adjusted_Rsquared = 1 - (1-r_squared)*(len(Xtest)-1)/(len(Xtest)-1-1) #formula for adjusted R^2 by theory\n",
    "print(\"Adjusted R^2:\\t\", adjusted_Rsquared) #correct the error when adding more and more independent variables to the linear regression model\n",
    "\n",
    "# lin_mse = mean_squared_error(Ytrain, Accept_rate_train)\n",
    "# lin_rmse = np.sqrt(lin_mse)\n",
    "# print(\"Mean Squred Error_train:\\t\", lin_rmse)"
   ]
  },
  {
   "cell_type": "raw",
   "metadata": {
    "collapsed": true
   },
   "source": [
    "Comment: Comparing the result of this DP4 and of DP1 (WLWT vs average long waiting time), the MSE and evaluation scores of cross-validations are IMPROVED much more in the case of DP4. However, when we change the test size from 0.1 to 0.2, the MSE decreases (intuitively make sense!), but when we increase the test size from 0.2 to 0.3, the MSE increases again...."
   ]
  },
  {
   "cell_type": "markdown",
   "metadata": {},
   "source": [
    "# Plot of RMSE errors when testing our models on training set vs test set & comparing the RMSE errors in case of factor 1.2 vs 1.3"
   ]
  },
  {
   "cell_type": "code",
   "execution_count": 115,
   "metadata": {
    "collapsed": false
   },
   "outputs": [
    {
     "data": {
      "image/png": "[encoded data removed]",
      "text/plain": [
       "<matplotlib.figure.Figure at 0x11f86ecf8>"
      ]
     },
     "metadata": {},
     "output_type": "display_data"
    }
   ],
   "source": [
    "from sklearn.metrics import mean_squared_error\n",
    "from sklearn.model_selection import train_test_split\n",
    "from sklearn.linear_model import LinearRegression\n",
    "import numpy as np\n",
    "import pandas as pd\n",
    "\n",
    "\n",
    "# #Xtrain2, Xtest2, Ytrain2, Ytest2 = train_test_split(Ha_Noi2['longwait_percent2'].reshape(-1,1), Ha_Noi2['accept_rate'].reshape(-1,1), test_size = 0.3, random_state= 42)\n",
    "# # len(Xtrain) + len(Xtest) - len(Ytrain) - len(Ytest) -- check the size of splitting\n",
    "\n",
    "def plot_learning_curves(model):\n",
    "    train_errors, test_errors = [], []\n",
    "    for m in range(1, len(Xtrain)):\n",
    "        model.fit(Xtrain[:m], Ytrain[:m])\n",
    "        Ytrain_predict = model.predict(Xtrain[:m])\n",
    "        Ytest_predict = model.predict(Xtest)\n",
    "        train_errors.append(mean_squared_error(Ytrain_predict, Ytrain[:m]))\n",
    "        test_errors.append(mean_squared_error(Ytest_predict, Ytest))\n",
    "        plt.plot(np.sqrt(train_errors), \"r-+\", linewidth=2, label=\"training set\")\n",
    "        plt.plot(np.sqrt(test_errors), \"b-\", linewidth=3, label=\"validation set\")\n",
    "\n",
    "def plot_learning_curves2(model):   \n",
    "    train_errors2, test_errors2 = [], []\n",
    "    for n in range(1, len(Xtrain)):\n",
    "        model.fit(Xtrain2[:n], Ytrain[:n])\n",
    "        Ytrain_predict2 = model.predict(Xtrain2[:n])\n",
    "        Ytest_predict2 = model.predict(Xtest2)\n",
    "        train_errors2.append(mean_squared_error(Ytrain_predict2, Ytrain[:n]))\n",
    "        test_errors2.append(mean_squared_error(Ytest_predict2, Ytest))\n",
    "        plt.plot(np.sqrt(train_errors2), \"g-+\", linewidth=2, label=\"training set\")\n",
    "        plt.plot(np.sqrt(test_errors2), \"o-\", linewidth=3, label=\"validation set\")\n",
    "        \n",
    "\n",
    "lin_reg = LinearRegression()\n",
    "plot_learning_curves(lin_reg)\n",
    "plot_learning_curves2(lin_reg)\n",
    "\n",
    "\n",
    "\n"
   ]
  },
  {
   "cell_type": "raw",
   "metadata": {
    "collapsed": true
   },
   "source": [
    "# Comment: Based on the figure above, we could see that the effect of factor applied to long waiting time is insignificant (either 1.2 or 1.3 does not change the result!)However,based on the violet line, the RMSE resulted from applying our Lin-Reg model between (weighted long waiting time vs acceptance rate on the test set) is around 6%, which is significantly down from 10.9% if we consider the Lin-Reg model purely between average waiting time vs acceptance rate!"
   ]
  },
  {
   "cell_type": "code",
   "execution_count": 108,
   "metadata": {
    "collapsed": false
   },
   "outputs": [
    {
     "name": "stdout",
     "output_type": "stream",
     "text": [
      "0.626720783938\n"
     ]
    }
   ],
   "source": [
    "from sklearn.externals import joblib\n",
    "filename = 'DP4model_Lin_Reg Model.sav'\n",
    "joblib.dump(model, filename)\n",
    "\n",
    "# load the model from disk\n",
    "loaded_model = joblib.load(filename)\n",
    "result = loaded_model.score(Xtest, Ytest) #R^2 result\n",
    "print(result)"
   ]
  },
  {
   "cell_type": "code",
   "execution_count": null,
   "metadata": {
    "collapsed": true
   },
   "outputs": [],
   "source": []
  }
 ],
 "metadata": {
  "anaconda-cloud": {},
  "kernelspec": {
   "display_name": "Python [conda root]",
   "language": "python",
   "name": "conda-root-py"
  },
  "language_info": {
   "codemirror_mode": {
    "name": "ipython",
    "version": 3
   },
   "file_extension": ".py",
   "mimetype": "text/x-python",
   "name": "python",
   "nbconvert_exporter": "python",
   "pygments_lexer": "ipython3",
   "version": "3.5.2"
  }
 },
 "nbformat": 4,
 "nbformat_minor": 1
}
